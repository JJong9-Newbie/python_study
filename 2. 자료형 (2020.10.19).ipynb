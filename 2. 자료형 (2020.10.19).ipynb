{
 "cells": [
  {
   "cell_type": "code",
   "execution_count": 1,
   "metadata": {},
   "outputs": [],
   "source": [
    "# 자료형 (data type)\n",
    "# 문자열 (string)\n",
    "# 숫자 (number)\n",
    "# 불 (boolean)"
   ]
  },
  {
   "cell_type": "code",
   "execution_count": 2,
   "metadata": {},
   "outputs": [
    {
     "name": "stdout",
     "output_type": "stream",
     "text": [
      "<class 'str'>\n",
      "<class 'int'>\n"
     ]
    }
   ],
   "source": [
    "# type 확인\n",
    "a = \"안녕하세요\"\n",
    "b = 123\n",
    "print(type(a))\n",
    "print(type(b))"
   ]
  },
  {
   "cell_type": "code",
   "execution_count": 3,
   "metadata": {},
   "outputs": [
    {
     "name": "stdout",
     "output_type": "stream",
     "text": [
      "\"안녕하세요\"라고 말했습니다.\n",
      "'안녕하세요'라고 생각했습니다.\n"
     ]
    }
   ],
   "source": [
    "# 문자열 안에 \"\", '' 넣기\n",
    "print('\"안녕하세요\"라고 말했습니다.')\n",
    "print(\"'안녕하세요'라고 생각했습니다.\")"
   ]
  },
  {
   "cell_type": "code",
   "execution_count": 4,
   "metadata": {},
   "outputs": [
    {
     "name": "stdout",
     "output_type": "stream",
     "text": [
      "가나다\n",
      "라마바\n",
      "가나다\t라마바\n"
     ]
    }
   ],
   "source": [
    "# \\(이스케이프 활용)\n",
    "print(\"가나다\\n라마바\") # 줄바꿈\n",
    "print(\"가나다\\t라마바\") # 텝키"
   ]
  },
  {
   "cell_type": "code",
   "execution_count": 5,
   "metadata": {},
   "outputs": [
    {
     "name": "stdout",
     "output_type": "stream",
     "text": [
      "안녕하세요\n",
      "안녕하세요안녕하세요안녕하세요\n"
     ]
    }
   ],
   "source": [
    "# 문자 합치기, 반복\n",
    "print(\"안녕\"+\"하세요\")\n",
    "print(\"안녕하세요\"*3)"
   ]
  },
  {
   "cell_type": "code",
   "execution_count": 6,
   "metadata": {},
   "outputs": [
    {
     "name": "stdout",
     "output_type": "stream",
     "text": [
      "안\n",
      "녕\n",
      "안\n",
      "요\n"
     ]
    }
   ],
   "source": [
    "# 문자 선택 연산자 : 문자열 내부의 문자 하나를 선택하는 연산자. 대괄호 안에는 선택할 문자의 위치를 지정하며 숫자를 인덱스라고 부름\n",
    "# 파이썬은 0부터 세는 제로 인덱스이다.\n",
    "print(\"안녕하세요\"[0])\n",
    "print(\"안녕하세요\"[1])\n",
    "print(\"안녕하세요\"[-5])\n",
    "print(\"안녕하세요\"[-1])"
   ]
  },
  {
   "cell_type": "code",
   "execution_count": 7,
   "metadata": {},
   "outputs": [
    {
     "name": "stdout",
     "output_type": "stream",
     "text": [
      "녕하세\n",
      "하세요\n"
     ]
    }
   ],
   "source": [
    "# 문자열의 특정 범위를 선택할 때 사용하는 연산자 = 슬라이싱 :\n",
    "# 파이썬은 마지막 숫자를 포함하지 않음\n",
    "print(\"안녕하세요\"[1:4])\n",
    "print(\"안녕하세요\"[2:])"
   ]
  },
  {
   "cell_type": "code",
   "execution_count": 8,
   "metadata": {},
   "outputs": [
    {
     "name": "stdout",
     "output_type": "stream",
     "text": [
      "5\n"
     ]
    }
   ],
   "source": [
    "# 문자열의 길이 구하기\n",
    "print(len(\"안녕하세요\"))"
   ]
  },
  {
   "cell_type": "code",
   "execution_count": 9,
   "metadata": {},
   "outputs": [
    {
     "name": "stdout",
     "output_type": "stream",
     "text": [
      "<class 'int'>\n",
      "<class 'float'>\n"
     ]
    }
   ],
   "source": [
    "# 정수, 실수\n",
    "print(type(23))\n",
    "print(type(89.132))"
   ]
  },
  {
   "cell_type": "code",
   "execution_count": 10,
   "metadata": {},
   "outputs": [
    {
     "name": "stdout",
     "output_type": "stream",
     "text": [
      "6\n",
      "8\n"
     ]
    }
   ],
   "source": [
    "# 정수로 나누기\n",
    "print(45//7)\n",
    "\n",
    "# 제곱연산자\n",
    "print(2**3)"
   ]
  },
  {
   "cell_type": "code",
   "execution_count": 11,
   "metadata": {},
   "outputs": [],
   "source": [
    "# 복합 대입 연산자\n",
    "# +=, -=, *=, /=, %=, **="
   ]
  },
  {
   "cell_type": "code",
   "execution_count": 12,
   "metadata": {},
   "outputs": [],
   "source": [
    "# 사용자 입력 : input()\n",
    "# input 함수는 숫자를 넣어도 무조건 문자로 출력, 변수를 int, float로 바꿔줘야함"
   ]
  }
 ],
 "metadata": {
  "kernelspec": {
   "display_name": "Python 3",
   "language": "python",
   "name": "python3"
  },
  "language_info": {
   "codemirror_mode": {
    "name": "ipython",
    "version": 3
   },
   "file_extension": ".py",
   "mimetype": "text/x-python",
   "name": "python",
   "nbconvert_exporter": "python",
   "pygments_lexer": "ipython3",
   "version": "3.8.3"
  }
 },
 "nbformat": 4,
 "nbformat_minor": 4
}
