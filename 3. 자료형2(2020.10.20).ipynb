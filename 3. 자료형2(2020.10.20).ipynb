{
 "cells": [
  {
   "cell_type": "code",
   "execution_count": 1,
   "metadata": {},
   "outputs": [],
   "source": [
    "# 문자열의 format() 함수\n",
    "# 중괄호의 개수와 format 함수 괄호 안 매개변수의 개수는 반드시 같아야함"
   ]
  },
  {
   "cell_type": "code",
   "execution_count": 2,
   "metadata": {},
   "outputs": [
    {
     "name": "stdout",
     "output_type": "stream",
     "text": [
      "1122\n",
      "<class 'str'>\n"
     ]
    }
   ],
   "source": [
    "string_a = \"{}{}\".format(11, 22)\n",
    "print(string_a)\n",
    "print(type(string_a))"
   ]
  },
  {
   "cell_type": "code",
   "execution_count": 3,
   "metadata": {},
   "outputs": [
    {
     "name": "stdout",
     "output_type": "stream",
     "text": [
      "30살 입니다.\n"
     ]
    }
   ],
   "source": [
    "string_a = \"{}살 입니다.\".format(30)\n",
    "print(string_a)"
   ]
  },
  {
   "cell_type": "code",
   "execution_count": 4,
   "metadata": {},
   "outputs": [
    {
     "name": "stdout",
     "output_type": "stream",
     "text": [
      "HELLO\n",
      "hello\n"
     ]
    }
   ],
   "source": [
    "# 대소문자 바꾸기\n",
    "a = \"hello\"\n",
    "b = a.upper()\n",
    "print(b)\n",
    "c = b.lower()\n",
    "print(c)"
   ]
  },
  {
   "cell_type": "code",
   "execution_count": 5,
   "metadata": {},
   "outputs": [
    {
     "name": "stdout",
     "output_type": "stream",
     "text": [
      "\n",
      "   가나다   \n",
      "라마바사아자차\n",
      "\n",
      "가나다   \n",
      "라마바사아자차\n"
     ]
    }
   ],
   "source": [
    "# 공백 제거하기 strip, lstrip, rstrip\n",
    "a = \"\"\"\n",
    "   가나다   \n",
    "라마바사아자차\n",
    "\"\"\"\n",
    "\n",
    "print(a)\n",
    "print(a.strip())"
   ]
  },
  {
   "cell_type": "code",
   "execution_count": 6,
   "metadata": {},
   "outputs": [
    {
     "name": "stdout",
     "output_type": "stream",
     "text": [
      "0\n",
      "5\n"
     ]
    }
   ],
   "source": [
    "# 문자열 찾기 : find, rfind\n",
    "\n",
    "a = \"안녕하세요안녕하세요\"\n",
    "print(a.find(\"안녕\"))\n",
    "print(a.rfind(\"안녕\"))"
   ]
  },
  {
   "cell_type": "code",
   "execution_count": 7,
   "metadata": {},
   "outputs": [
    {
     "name": "stdout",
     "output_type": "stream",
     "text": [
      "True\n"
     ]
    }
   ],
   "source": [
    "# 문자열 내부 문자열 확인 연산자 in\n",
    "print(\"안녕\" in \"안녕하세요\")"
   ]
  },
  {
   "cell_type": "code",
   "execution_count": 8,
   "metadata": {},
   "outputs": [
    {
     "name": "stdout",
     "output_type": "stream",
     "text": [
      "['10', '20', '30']\n",
      "['10', ' 20', ' 30']\n"
     ]
    }
   ],
   "source": [
    "# 문자열 자르기 split()\n",
    "a = \"10 20 30\"\n",
    "b = \"10, 20, 30\"\n",
    "print(a.split(\" \"))\n",
    "print(b.split(\",\"))"
   ]
  }
 ],
 "metadata": {
  "kernelspec": {
   "display_name": "Python 3",
   "language": "python",
   "name": "python3"
  },
  "language_info": {
   "codemirror_mode": {
    "name": "ipython",
    "version": 3
   },
   "file_extension": ".py",
   "mimetype": "text/x-python",
   "name": "python",
   "nbconvert_exporter": "python",
   "pygments_lexer": "ipython3",
   "version": "3.8.3"
  }
 },
 "nbformat": 4,
 "nbformat_minor": 4
}
