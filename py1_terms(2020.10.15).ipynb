{
 "cells": [
  {
   "cell_type": "code",
   "execution_count": 1,
   "metadata": {},
   "outputs": [],
   "source": [
    "# 표현식 : 어떠한 값을 만들어 내는 간단한 코드 (숫자, 수식, 문자열)\n",
    "# 문장 : 하나 이상의 표현식\n",
    "# 프로그램 : 문장이 모여서\n",
    "\n",
    "# 키워드 : 파이썬이 만들어질 때 이미 사용하겠다고 예약해 놓은 것"
   ]
  },
  {
   "cell_type": "code",
   "execution_count": 2,
   "metadata": {},
   "outputs": [
    {
     "name": "stdout",
     "output_type": "stream",
     "text": [
      "['False', 'None', 'True', 'and', 'as', 'assert', 'async', 'await', 'break', 'class', 'continue', 'def', 'del', 'elif', 'else', 'except', 'finally', 'for', 'from', 'global', 'if', 'import', 'in', 'is', 'lambda', 'nonlocal', 'not', 'or', 'pass', 'raise', 'return', 'try', 'while', 'with', 'yield']\n"
     ]
    }
   ],
   "source": [
    "import keyword\n",
    "print(keyword.kwlist) # 파이썬에 있는 키워드 보기"
   ]
  },
  {
   "cell_type": "code",
   "execution_count": null,
   "metadata": {},
   "outputs": [],
   "source": [
    "# 식별자 : 프로그래밍 언어에서 이름을 붙일 때 사용하는 단어\n",
    "# 1. 키워드x\n",
    "# 2. 특수문자는 _만\n",
    "# 3. 숫자로 시작x\n",
    "# 4. 공백 포함x"
   ]
  },
  {
   "cell_type": "code",
   "execution_count": null,
   "metadata": {},
   "outputs": [],
   "source": [
    "# 스네이크 케이스 : python_study (대문자 사용x)\n",
    "# 캐멀 케이스 : PythonStudy\n",
    "\n",
    "# 캐멀 케이스 = 클래스\n",
    "# 스네이크 케이스 = 함수(), 변수"
   ]
  },
  {
   "cell_type": "code",
   "execution_count": null,
   "metadata": {},
   "outputs": [],
   "source": [
    "# 연산자 : 값과 값 사이에 무언가의 기능 (+, - ...)"
   ]
  }
 ],
 "metadata": {
  "kernelspec": {
   "display_name": "Python 3",
   "language": "python",
   "name": "python3"
  },
  "language_info": {
   "codemirror_mode": {
    "name": "ipython",
    "version": 3
   },
   "file_extension": ".py",
   "mimetype": "text/x-python",
   "name": "python",
   "nbconvert_exporter": "python",
   "pygments_lexer": "ipython3",
   "version": "3.8.3"
  }
 },
 "nbformat": 4,
 "nbformat_minor": 4
}
